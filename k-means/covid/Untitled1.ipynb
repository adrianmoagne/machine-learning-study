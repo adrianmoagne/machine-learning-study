{
 "cells": [
  {
   "cell_type": "code",
   "execution_count": 38,
   "id": "f983d52e-3a20-48c0-94b1-7338c0691417",
   "metadata": {},
   "outputs": [],
   "source": [
    "from sklearn.cluster import KMeans\n",
    "import pandas as pd\n",
    "from sklearn.preprocessing import MinMaxScaler\n",
    "import matplotlib.pyplot as plt\n",
    "%matplotlib inline"
   ]
  },
  {
   "cell_type": "code",
   "execution_count": 39,
   "id": "93eb8272-ff41-4357-a428-93c3bf273b6d",
   "metadata": {},
   "outputs": [],
   "source": [
    "cases = pd.read_csv(\"cases.csv\")\n",
    "vaccines = pd.read_csv(\"vacinas.csv\",sep=\";\")\n",
    "death = pd.read_csv(\"death.csv\")\n",
    "\n",
    "death = death.set_index(\"Name\")\n",
    "cases = cases.set_index(\"Name\")\n",
    "vaccines = vaccines.set_index(\"Name\")\n",
    "tabela = pd.concat([vaccines,cases,death],axis=1)\n",
    "tabela = tabela.dropna()\n",
    "tabela[\"death\"] = pd.to_numeric(tabela[\"death\"])\n",
    "tabela[\"cases\"] = pd.to_numeric(tabela[\"cases\"])\n",
    "\n",
    "index = tabela.index\n",
    "\n"
   ]
  },
  {
   "cell_type": "code",
   "execution_count": 40,
   "id": "583686cf-d16e-455d-a39c-6b149186e1aa",
   "metadata": {},
   "outputs": [
    {
     "data": {
      "text/html": [
       "<div>\n",
       "<style scoped>\n",
       "    .dataframe tbody tr th:only-of-type {\n",
       "        vertical-align: middle;\n",
       "    }\n",
       "\n",
       "    .dataframe tbody tr th {\n",
       "        vertical-align: top;\n",
       "    }\n",
       "\n",
       "    .dataframe thead th {\n",
       "        text-align: right;\n",
       "    }\n",
       "</style>\n",
       "<table border=\"1\" class=\"dataframe\">\n",
       "  <thead>\n",
       "    <tr style=\"text-align: right;\">\n",
       "      <th></th>\n",
       "      <th>fully_vaccinated_percentual</th>\n",
       "      <th>partly_vaccinated_percentual</th>\n",
       "      <th>cases</th>\n",
       "      <th>death</th>\n",
       "    </tr>\n",
       "    <tr>\n",
       "      <th>Name</th>\n",
       "      <th></th>\n",
       "      <th></th>\n",
       "      <th></th>\n",
       "      <th></th>\n",
       "    </tr>\n",
       "  </thead>\n",
       "  <tbody>\n",
       "    <tr>\n",
       "      <th>Afghanistan</th>\n",
       "      <td>1.08</td>\n",
       "      <td>0.85</td>\n",
       "      <td>2380.39</td>\n",
       "      <td>113.44</td>\n",
       "    </tr>\n",
       "    <tr>\n",
       "      <th>Africa</th>\n",
       "      <td>1.65</td>\n",
       "      <td>1.52</td>\n",
       "      <td>2874.87</td>\n",
       "      <td>76.16</td>\n",
       "    </tr>\n",
       "    <tr>\n",
       "      <th>Albania</th>\n",
       "      <td>18.40</td>\n",
       "      <td>4.93</td>\n",
       "      <td>26023.92</td>\n",
       "      <td>444.14</td>\n",
       "    </tr>\n",
       "    <tr>\n",
       "      <th>Algeria</th>\n",
       "      <td>1.62</td>\n",
       "      <td>6.04</td>\n",
       "      <td>1608.86</td>\n",
       "      <td>33.58</td>\n",
       "    </tr>\n",
       "    <tr>\n",
       "      <th>Andorra</th>\n",
       "      <td>45.99</td>\n",
       "      <td>19.62</td>\n",
       "      <td>85696.93</td>\n",
       "      <td>568.81</td>\n",
       "    </tr>\n",
       "  </tbody>\n",
       "</table>\n",
       "</div>"
      ],
      "text/plain": [
       "             fully_vaccinated_percentual  partly_vaccinated_percentual  \\\n",
       "Name                                                                     \n",
       "Afghanistan                         1.08                          0.85   \n",
       "Africa                              1.65                          1.52   \n",
       "Albania                            18.40                          4.93   \n",
       "Algeria                             1.62                          6.04   \n",
       "Andorra                            45.99                         19.62   \n",
       "\n",
       "                cases   death  \n",
       "Name                           \n",
       "Afghanistan   2380.39  113.44  \n",
       "Africa        2874.87   76.16  \n",
       "Albania      26023.92  444.14  \n",
       "Algeria       1608.86   33.58  \n",
       "Andorra      85696.93  568.81  "
      ]
     },
     "execution_count": 40,
     "metadata": {},
     "output_type": "execute_result"
    }
   ],
   "source": [
    "tabela.head()"
   ]
  },
  {
   "cell_type": "code",
   "execution_count": 41,
   "id": "7e1adedb-0118-4963-afb9-d575b9fb9336",
   "metadata": {},
   "outputs": [
    {
     "data": {
      "text/plain": [
       "<matplotlib.collections.PathCollection at 0x7f7d64dc0550>"
      ]
     },
     "execution_count": 41,
     "metadata": {},
     "output_type": "execute_result"
    },
    {
     "data": {
      "image/png": "[encoded data removed]",
      "text/plain": [
       "<Figure size 432x288 with 1 Axes>"
      ]
     },
     "metadata": {
      "needs_background": "light"
     },
     "output_type": "display_data"
    }
   ],
   "source": [
    "plt.scatter(tabela[\"cases\"], tabela[\"fully_vaccinated_percentual\"])"
   ]
  },
  {
   "cell_type": "code",
   "execution_count": 42,
   "id": "4d97b4bb-4da5-44b9-9289-f5864eb6bed2",
   "metadata": {},
   "outputs": [
    {
     "data": {
      "text/plain": [
       "KMeans(n_clusters=3)"
      ]
     },
     "execution_count": 42,
     "metadata": {},
     "output_type": "execute_result"
    }
   ],
   "source": [
    "km = KMeans(n_clusters=3)\n",
    "km"
   ]
  },
  {
   "cell_type": "code",
   "execution_count": 43,
   "id": "13d7bded-990e-4666-b1c9-3d846fdc7980",
   "metadata": {},
   "outputs": [
    {
     "data": {
      "text/plain": [
       "array([0, 0, 2, 0, 1, 0, 0, 1, 2, 0, 0, 2, 0, 0, 1, 0, 0, 2, 2, 0, 0, 0,\n",
       "       2, 2, 2, 2, 0, 2, 0, 0, 0, 2, 0, 2, 0, 2, 0, 0, 2, 2, 2, 1, 1, 0,\n",
       "       2, 0, 0, 0, 0, 0, 0, 1, 0, 2, 2, 2, 0, 2, 0, 0, 2, 2, 0, 2, 0, 0,\n",
       "       0, 0, 0, 0, 2, 0, 0, 2, 0, 0, 0, 2, 2, 2, 2, 2, 0, 0, 2, 0, 0, 2,\n",
       "       2, 0, 0, 2, 2, 0, 0, 2, 2, 0, 0, 0, 2, 1, 0, 2, 0, 0, 0, 2, 2, 2,\n",
       "       1, 0, 0, 0, 2, 0, 2, 0, 0, 0, 0, 2, 2, 0, 0, 2, 0, 2, 0, 2, 2, 0,\n",
       "       2, 2, 2, 2, 0, 0, 0, 2, 0, 0, 0, 0, 2, 1, 0, 0, 2, 2, 0, 0, 2, 0,\n",
       "       0, 2, 0, 0, 2, 2, 2, 0, 0, 0, 0, 0, 0, 0, 0, 2, 2, 0, 2, 2, 2, 2,\n",
       "       0, 1, 0, 0, 0, 0, 0, 0, 0, 0], dtype=int32)"
      ]
     },
     "execution_count": 43,
     "metadata": {},
     "output_type": "execute_result"
    }
   ],
   "source": [
    "y_predict = km.fit_predict(tabela[['cases', 'fully_vaccinated_percentual']])\n",
    "y_predict"
   ]
  },
  {
   "cell_type": "code",
   "execution_count": 44,
   "id": "aafed5eb-6863-4e9f-92cf-d9bb38c55603",
   "metadata": {},
   "outputs": [
    {
     "data": {
      "text/html": [
       "<div>\n",
       "<style scoped>\n",
       "    .dataframe tbody tr th:only-of-type {\n",
       "        vertical-align: middle;\n",
       "    }\n",
       "\n",
       "    .dataframe tbody tr th {\n",
       "        vertical-align: top;\n",
       "    }\n",
       "\n",
       "    .dataframe thead th {\n",
       "        text-align: right;\n",
       "    }\n",
       "</style>\n",
       "<table border=\"1\" class=\"dataframe\">\n",
       "  <thead>\n",
       "    <tr style=\"text-align: right;\">\n",
       "      <th></th>\n",
       "      <th>fully_vaccinated_percentual</th>\n",
       "      <th>partly_vaccinated_percentual</th>\n",
       "      <th>cases</th>\n",
       "      <th>death</th>\n",
       "      <th>cluster</th>\n",
       "    </tr>\n",
       "    <tr>\n",
       "      <th>Name</th>\n",
       "      <th></th>\n",
       "      <th></th>\n",
       "      <th></th>\n",
       "      <th></th>\n",
       "      <th></th>\n",
       "    </tr>\n",
       "  </thead>\n",
       "  <tbody>\n",
       "    <tr>\n",
       "      <th>Afghanistan</th>\n",
       "      <td>1.08</td>\n",
       "      <td>0.85</td>\n",
       "      <td>2380.39</td>\n",
       "      <td>113.44</td>\n",
       "      <td>0</td>\n",
       "    </tr>\n",
       "    <tr>\n",
       "      <th>Africa</th>\n",
       "      <td>1.65</td>\n",
       "      <td>1.52</td>\n",
       "      <td>2874.87</td>\n",
       "      <td>76.16</td>\n",
       "      <td>0</td>\n",
       "    </tr>\n",
       "    <tr>\n",
       "      <th>Albania</th>\n",
       "      <td>18.40</td>\n",
       "      <td>4.93</td>\n",
       "      <td>26023.92</td>\n",
       "      <td>444.14</td>\n",
       "      <td>2</td>\n",
       "    </tr>\n",
       "    <tr>\n",
       "      <th>Algeria</th>\n",
       "      <td>1.62</td>\n",
       "      <td>6.04</td>\n",
       "      <td>1608.86</td>\n",
       "      <td>33.58</td>\n",
       "      <td>0</td>\n",
       "    </tr>\n",
       "    <tr>\n",
       "      <th>Andorra</th>\n",
       "      <td>45.99</td>\n",
       "      <td>19.62</td>\n",
       "      <td>85696.93</td>\n",
       "      <td>568.81</td>\n",
       "      <td>1</td>\n",
       "    </tr>\n",
       "  </tbody>\n",
       "</table>\n",
       "</div>"
      ],
      "text/plain": [
       "             fully_vaccinated_percentual  partly_vaccinated_percentual  \\\n",
       "Name                                                                     \n",
       "Afghanistan                         1.08                          0.85   \n",
       "Africa                              1.65                          1.52   \n",
       "Albania                            18.40                          4.93   \n",
       "Algeria                             1.62                          6.04   \n",
       "Andorra                            45.99                         19.62   \n",
       "\n",
       "                cases   death  cluster  \n",
       "Name                                    \n",
       "Afghanistan   2380.39  113.44        0  \n",
       "Africa        2874.87   76.16        0  \n",
       "Albania      26023.92  444.14        2  \n",
       "Algeria       1608.86   33.58        0  \n",
       "Andorra      85696.93  568.81        1  "
      ]
     },
     "execution_count": 44,
     "metadata": {},
     "output_type": "execute_result"
    }
   ],
   "source": [
    "tabela[\"cluster\"] = y_predict\n",
    "tabela.head()"
   ]
  },
  {
   "cell_type": "code",
   "execution_count": 45,
   "id": "f94d0881-98d8-434b-81bb-3c9c40e8745f",
   "metadata": {},
   "outputs": [
    {
     "name": "stderr",
     "output_type": "stream",
     "text": [
      "No handles with labels found to put in legend.\n"
     ]
    },
    {
     "data": {
      "text/plain": [
       "<matplotlib.legend.Legend at 0x7f7d64d3cdf0>"
      ]
     },
     "execution_count": 45,
     "metadata": {},
     "output_type": "execute_result"
    },
    {
     "data": {
      "image/png": "[encoded data removed]",
      "text/plain": [
       "<Figure size 432x288 with 1 Axes>"
      ]
     },
     "metadata": {
      "needs_background": "light"
     },
     "output_type": "display_data"
    }
   ],
   "source": [
    "cluster0  = tabela[tabela.cluster == 0]\n",
    "cluster1  = tabela[tabela.cluster == 1]\n",
    "cluster2  = tabela[tabela.cluster == 2]\n",
    "\n",
    "plt.scatter(cluster0.cases,cluster0.fully_vaccinated_percentual, color='green')\n",
    "plt.scatter(cluster1.cases,cluster1.fully_vaccinated_percentual, color='red')\n",
    "plt.scatter(cluster2.cases,cluster2.fully_vaccinated_percentual, color='blue')\n",
    "\n",
    "plt.xlabel('cases')\n",
    "plt.ylabel('fully_vaccinated_percentual')\n",
    "plt.legend()"
   ]
  },
  {
   "cell_type": "code",
   "execution_count": 46,
   "id": "81a81426-f718-4583-8f0c-a382bcfa15a7",
   "metadata": {},
   "outputs": [
    {
     "data": {
      "text/html": [
       "<div>\n",
       "<style scoped>\n",
       "    .dataframe tbody tr th:only-of-type {\n",
       "        vertical-align: middle;\n",
       "    }\n",
       "\n",
       "    .dataframe tbody tr th {\n",
       "        vertical-align: top;\n",
       "    }\n",
       "\n",
       "    .dataframe thead th {\n",
       "        text-align: right;\n",
       "    }\n",
       "</style>\n",
       "<table border=\"1\" class=\"dataframe\">\n",
       "  <thead>\n",
       "    <tr style=\"text-align: right;\">\n",
       "      <th></th>\n",
       "      <th>fully_vaccinated_percentual</th>\n",
       "      <th>partly_vaccinated_percentual</th>\n",
       "      <th>cases</th>\n",
       "      <th>death</th>\n",
       "      <th>cluster</th>\n",
       "    </tr>\n",
       "  </thead>\n",
       "  <tbody>\n",
       "    <tr>\n",
       "      <th>0</th>\n",
       "      <td>0.014575</td>\n",
       "      <td>0.020137</td>\n",
       "      <td>0.012984</td>\n",
       "      <td>0.036640</td>\n",
       "      <td>0.0</td>\n",
       "    </tr>\n",
       "    <tr>\n",
       "      <th>1</th>\n",
       "      <td>0.022267</td>\n",
       "      <td>0.036010</td>\n",
       "      <td>0.015686</td>\n",
       "      <td>0.024599</td>\n",
       "      <td>0.0</td>\n",
       "    </tr>\n",
       "    <tr>\n",
       "      <th>2</th>\n",
       "      <td>0.248313</td>\n",
       "      <td>0.116797</td>\n",
       "      <td>0.142176</td>\n",
       "      <td>0.143453</td>\n",
       "      <td>1.0</td>\n",
       "    </tr>\n",
       "    <tr>\n",
       "      <th>3</th>\n",
       "      <td>0.021862</td>\n",
       "      <td>0.143094</td>\n",
       "      <td>0.008769</td>\n",
       "      <td>0.010846</td>\n",
       "      <td>0.0</td>\n",
       "    </tr>\n",
       "    <tr>\n",
       "      <th>4</th>\n",
       "      <td>0.620648</td>\n",
       "      <td>0.464819</td>\n",
       "      <td>0.468239</td>\n",
       "      <td>0.183720</td>\n",
       "      <td>0.5</td>\n",
       "    </tr>\n",
       "    <tr>\n",
       "      <th>...</th>\n",
       "      <td>...</td>\n",
       "      <td>...</td>\n",
       "      <td>...</td>\n",
       "      <td>...</td>\n",
       "      <td>...</td>\n",
       "    </tr>\n",
       "    <tr>\n",
       "      <th>181</th>\n",
       "      <td>0.008502</td>\n",
       "      <td>0.119877</td>\n",
       "      <td>0.008248</td>\n",
       "      <td>0.004183</td>\n",
       "      <td>0.0</td>\n",
       "    </tr>\n",
       "    <tr>\n",
       "      <th>182</th>\n",
       "      <td>0.157760</td>\n",
       "      <td>0.393746</td>\n",
       "      <td>0.079300</td>\n",
       "      <td>0.095964</td>\n",
       "      <td>0.0</td>\n",
       "    </tr>\n",
       "    <tr>\n",
       "      <th>183</th>\n",
       "      <td>0.000540</td>\n",
       "      <td>0.022033</td>\n",
       "      <td>0.000867</td>\n",
       "      <td>0.008104</td>\n",
       "      <td>0.0</td>\n",
       "    </tr>\n",
       "    <tr>\n",
       "      <th>184</th>\n",
       "      <td>0.010661</td>\n",
       "      <td>0.017058</td>\n",
       "      <td>0.050543</td>\n",
       "      <td>0.051229</td>\n",
       "      <td>0.0</td>\n",
       "    </tr>\n",
       "    <tr>\n",
       "      <th>185</th>\n",
       "      <td>0.069636</td>\n",
       "      <td>0.137171</td>\n",
       "      <td>0.034370</td>\n",
       "      <td>0.067821</td>\n",
       "      <td>0.0</td>\n",
       "    </tr>\n",
       "  </tbody>\n",
       "</table>\n",
       "<p>186 rows × 5 columns</p>\n",
       "</div>"
      ],
      "text/plain": [
       "     fully_vaccinated_percentual  partly_vaccinated_percentual     cases  \\\n",
       "0                       0.014575                      0.020137  0.012984   \n",
       "1                       0.022267                      0.036010  0.015686   \n",
       "2                       0.248313                      0.116797  0.142176   \n",
       "3                       0.021862                      0.143094  0.008769   \n",
       "4                       0.620648                      0.464819  0.468239   \n",
       "..                           ...                           ...       ...   \n",
       "181                     0.008502                      0.119877  0.008248   \n",
       "182                     0.157760                      0.393746  0.079300   \n",
       "183                     0.000540                      0.022033  0.000867   \n",
       "184                     0.010661                      0.017058  0.050543   \n",
       "185                     0.069636                      0.137171  0.034370   \n",
       "\n",
       "        death  cluster  \n",
       "0    0.036640      0.0  \n",
       "1    0.024599      0.0  \n",
       "2    0.143453      1.0  \n",
       "3    0.010846      0.0  \n",
       "4    0.183720      0.5  \n",
       "..        ...      ...  \n",
       "181  0.004183      0.0  \n",
       "182  0.095964      0.0  \n",
       "183  0.008104      0.0  \n",
       "184  0.051229      0.0  \n",
       "185  0.067821      0.0  \n",
       "\n",
       "[186 rows x 5 columns]"
      ]
     },
     "execution_count": 46,
     "metadata": {},
     "output_type": "execute_result"
    }
   ],
   "source": [
    "scaler = MinMaxScaler()\n",
    "atributos = tabela.columns\n",
    "np_df = scaler.fit_transform(tabela)\n",
    "df = pd.DataFrame(np_df,columns=atributos)\n",
    "df"
   ]
  },
  {
   "cell_type": "code",
   "execution_count": 47,
   "id": "6f5d3aba-8fa1-457e-ada7-3948da9335da",
   "metadata": {},
   "outputs": [
    {
     "data": {
      "text/html": [
       "<div>\n",
       "<style scoped>\n",
       "    .dataframe tbody tr th:only-of-type {\n",
       "        vertical-align: middle;\n",
       "    }\n",
       "\n",
       "    .dataframe tbody tr th {\n",
       "        vertical-align: top;\n",
       "    }\n",
       "\n",
       "    .dataframe thead th {\n",
       "        text-align: right;\n",
       "    }\n",
       "</style>\n",
       "<table border=\"1\" class=\"dataframe\">\n",
       "  <thead>\n",
       "    <tr style=\"text-align: right;\">\n",
       "      <th></th>\n",
       "      <th>fully_vaccinated_percentual</th>\n",
       "      <th>partly_vaccinated_percentual</th>\n",
       "      <th>cases</th>\n",
       "      <th>death</th>\n",
       "      <th>cluster</th>\n",
       "    </tr>\n",
       "  </thead>\n",
       "  <tbody>\n",
       "    <tr>\n",
       "      <th>0</th>\n",
       "      <td>0.014575</td>\n",
       "      <td>0.020137</td>\n",
       "      <td>0.012984</td>\n",
       "      <td>0.036640</td>\n",
       "      <td>0</td>\n",
       "    </tr>\n",
       "    <tr>\n",
       "      <th>1</th>\n",
       "      <td>0.022267</td>\n",
       "      <td>0.036010</td>\n",
       "      <td>0.015686</td>\n",
       "      <td>0.024599</td>\n",
       "      <td>0</td>\n",
       "    </tr>\n",
       "    <tr>\n",
       "      <th>2</th>\n",
       "      <td>0.248313</td>\n",
       "      <td>0.116797</td>\n",
       "      <td>0.142176</td>\n",
       "      <td>0.143453</td>\n",
       "      <td>3</td>\n",
       "    </tr>\n",
       "    <tr>\n",
       "      <th>3</th>\n",
       "      <td>0.021862</td>\n",
       "      <td>0.143094</td>\n",
       "      <td>0.008769</td>\n",
       "      <td>0.010846</td>\n",
       "      <td>0</td>\n",
       "    </tr>\n",
       "    <tr>\n",
       "      <th>4</th>\n",
       "      <td>0.620648</td>\n",
       "      <td>0.464819</td>\n",
       "      <td>0.468239</td>\n",
       "      <td>0.183720</td>\n",
       "      <td>1</td>\n",
       "    </tr>\n",
       "  </tbody>\n",
       "</table>\n",
       "</div>"
      ],
      "text/plain": [
       "   fully_vaccinated_percentual  partly_vaccinated_percentual     cases  \\\n",
       "0                     0.014575                      0.020137  0.012984   \n",
       "1                     0.022267                      0.036010  0.015686   \n",
       "2                     0.248313                      0.116797  0.142176   \n",
       "3                     0.021862                      0.143094  0.008769   \n",
       "4                     0.620648                      0.464819  0.468239   \n",
       "\n",
       "      death  cluster  \n",
       "0  0.036640        0  \n",
       "1  0.024599        0  \n",
       "2  0.143453        3  \n",
       "3  0.010846        0  \n",
       "4  0.183720        1  "
      ]
     },
     "execution_count": 47,
     "metadata": {},
     "output_type": "execute_result"
    }
   ],
   "source": [
    "km = KMeans(n_clusters=4)\n",
    "y_predict = km.fit_predict(df)\n",
    "y_predict\n",
    "\n",
    "df[\"cluster\"] = y_predict\n",
    "df.head()"
   ]
  },
  {
   "cell_type": "code",
   "execution_count": 48,
   "id": "0324a58e-601a-4aa5-9f19-9bf8a49618d2",
   "metadata": {},
   "outputs": [
    {
     "name": "stderr",
     "output_type": "stream",
     "text": [
      "No handles with labels found to put in legend.\n"
     ]
    },
    {
     "data": {
      "text/plain": [
       "<matplotlib.legend.Legend at 0x7f7d64cb94f0>"
      ]
     },
     "execution_count": 48,
     "metadata": {},
     "output_type": "execute_result"
    },
    {
     "data": {
      "image/png": "[encoded data removed]",
      "text/plain": [
       "<Figure size 432x288 with 1 Axes>"
      ]
     },
     "metadata": {
      "needs_background": "light"
     },
     "output_type": "display_data"
    }
   ],
   "source": [
    "cluster0  = df[df.cluster == 0]\n",
    "cluster1  = df[df.cluster == 1]\n",
    "cluster2  = df[df.cluster == 2]\n",
    "cluster3 = df[df.cluster==3]\n",
    "plt.scatter(cluster0.cases,cluster0.fully_vaccinated_percentual, color='green')\n",
    "plt.scatter(cluster1.cases,cluster1.fully_vaccinated_percentual, color='red')\n",
    "plt.scatter(cluster2.cases,cluster2.fully_vaccinated_percentual, color='blue')\n",
    "plt.scatter(cluster3.cases,cluster3.fully_vaccinated_percentual, color='yellow')\n",
    "#plt.scatter(km.cluster_centers_[:,0], km.cluster_centers_[:,1], color='purple', marker = '*')\n",
    "\n",
    "plt.xlabel('cases')\n",
    "plt.ylabel('fully_vaccinated_percentual')\n",
    "plt.legend()"
   ]
  },
  {
   "cell_type": "code",
   "execution_count": 49,
   "id": "848651a4-7d46-4ce1-b0d3-0ee89c309a2b",
   "metadata": {},
   "outputs": [
    {
     "data": {
      "text/plain": [
       "<matplotlib.collections.PathCollection at 0x7f7d64c9f730>"
      ]
     },
     "execution_count": 49,
     "metadata": {},
     "output_type": "execute_result"
    },
    {
     "data": {
      "image/png": "[encoded data removed]",
      "text/plain": [
       "<Figure size 432x288 with 1 Axes>"
      ]
     },
     "metadata": {
      "needs_background": "light"
     },
     "output_type": "display_data"
    }
   ],
   "source": [
    "\n",
    "plt.scatter(km.cluster_centers_[:,0], km.cluster_centers_[:,1], color='purple', marker = '*')"
   ]
  },
  {
   "cell_type": "code",
   "execution_count": 50,
   "id": "08b7c029-c1fe-4eba-aad5-d59a0796e409",
   "metadata": {},
   "outputs": [
    {
     "data": {
      "text/plain": [
       "array([[4.59911634e-02, 9.36705903e-02, 2.69097060e-02, 3.27461535e-02,\n",
       "        5.55111512e-16],\n",
       "       [6.88210036e-01, 1.97712735e-01, 3.06829329e-01, 2.47516353e-01,\n",
       "        8.97727273e-01],\n",
       "       [3.69562017e-01, 4.28068891e-01, 5.16537130e-02, 6.36606662e-02,\n",
       "        2.77555756e-16],\n",
       "       [1.77474134e-01, 3.05792466e-01, 2.08060039e-01, 2.82581628e-01,\n",
       "        9.86111111e-01]])"
      ]
     },
     "execution_count": 50,
     "metadata": {},
     "output_type": "execute_result"
    }
   ],
   "source": [
    "km.cluster_centers_"
   ]
  },
  {
   "cell_type": "code",
   "execution_count": 51,
   "id": "079210b3-b4d2-4834-83cf-594e6641ce0c",
   "metadata": {},
   "outputs": [
    {
     "data": {
      "text/html": [
       "<div>\n",
       "<style scoped>\n",
       "    .dataframe tbody tr th:only-of-type {\n",
       "        vertical-align: middle;\n",
       "    }\n",
       "\n",
       "    .dataframe tbody tr th {\n",
       "        vertical-align: top;\n",
       "    }\n",
       "\n",
       "    .dataframe thead th {\n",
       "        text-align: right;\n",
       "    }\n",
       "</style>\n",
       "<table border=\"1\" class=\"dataframe\">\n",
       "  <thead>\n",
       "    <tr style=\"text-align: right;\">\n",
       "      <th></th>\n",
       "      <th>fully_vaccinated_percentual</th>\n",
       "      <th>partly_vaccinated_percentual</th>\n",
       "      <th>cases</th>\n",
       "      <th>death</th>\n",
       "      <th>cluster</th>\n",
       "    </tr>\n",
       "    <tr>\n",
       "      <th>Name</th>\n",
       "      <th></th>\n",
       "      <th></th>\n",
       "      <th></th>\n",
       "      <th></th>\n",
       "      <th></th>\n",
       "    </tr>\n",
       "  </thead>\n",
       "  <tbody>\n",
       "    <tr>\n",
       "      <th>Afghanistan</th>\n",
       "      <td>0.014575</td>\n",
       "      <td>0.020137</td>\n",
       "      <td>0.012984</td>\n",
       "      <td>0.036640</td>\n",
       "      <td>0</td>\n",
       "    </tr>\n",
       "    <tr>\n",
       "      <th>Africa</th>\n",
       "      <td>0.022267</td>\n",
       "      <td>0.036010</td>\n",
       "      <td>0.015686</td>\n",
       "      <td>0.024599</td>\n",
       "      <td>0</td>\n",
       "    </tr>\n",
       "    <tr>\n",
       "      <th>Albania</th>\n",
       "      <td>0.248313</td>\n",
       "      <td>0.116797</td>\n",
       "      <td>0.142176</td>\n",
       "      <td>0.143453</td>\n",
       "      <td>3</td>\n",
       "    </tr>\n",
       "    <tr>\n",
       "      <th>Algeria</th>\n",
       "      <td>0.021862</td>\n",
       "      <td>0.143094</td>\n",
       "      <td>0.008769</td>\n",
       "      <td>0.010846</td>\n",
       "      <td>0</td>\n",
       "    </tr>\n",
       "    <tr>\n",
       "      <th>Andorra</th>\n",
       "      <td>0.620648</td>\n",
       "      <td>0.464819</td>\n",
       "      <td>0.468239</td>\n",
       "      <td>0.183720</td>\n",
       "      <td>1</td>\n",
       "    </tr>\n",
       "  </tbody>\n",
       "</table>\n",
       "</div>"
      ],
      "text/plain": [
       "             fully_vaccinated_percentual  partly_vaccinated_percentual  \\\n",
       "Name                                                                     \n",
       "Afghanistan                     0.014575                      0.020137   \n",
       "Africa                          0.022267                      0.036010   \n",
       "Albania                         0.248313                      0.116797   \n",
       "Algeria                         0.021862                      0.143094   \n",
       "Andorra                         0.620648                      0.464819   \n",
       "\n",
       "                cases     death  cluster  \n",
       "Name                                      \n",
       "Afghanistan  0.012984  0.036640        0  \n",
       "Africa       0.015686  0.024599        0  \n",
       "Albania      0.142176  0.143453        3  \n",
       "Algeria      0.008769  0.010846        0  \n",
       "Andorra      0.468239  0.183720        1  "
      ]
     },
     "execution_count": 51,
     "metadata": {},
     "output_type": "execute_result"
    }
   ],
   "source": [
    "df = df.set_index(index)\n",
    "df.head()"
   ]
  },
  {
   "cell_type": "code",
   "execution_count": 52,
   "id": "78150a89-f24f-46c5-ae24-c5816f657f1b",
   "metadata": {},
   "outputs": [
    {
     "data": {
      "text/html": [
       "<div>\n",
       "<style scoped>\n",
       "    .dataframe tbody tr th:only-of-type {\n",
       "        vertical-align: middle;\n",
       "    }\n",
       "\n",
       "    .dataframe tbody tr th {\n",
       "        vertical-align: top;\n",
       "    }\n",
       "\n",
       "    .dataframe thead th {\n",
       "        text-align: right;\n",
       "    }\n",
       "</style>\n",
       "<table border=\"1\" class=\"dataframe\">\n",
       "  <thead>\n",
       "    <tr style=\"text-align: right;\">\n",
       "      <th></th>\n",
       "      <th>fully_vaccinated_percentual</th>\n",
       "      <th>partly_vaccinated_percentual</th>\n",
       "      <th>cases</th>\n",
       "      <th>death</th>\n",
       "      <th>cluster</th>\n",
       "    </tr>\n",
       "    <tr>\n",
       "      <th>Name</th>\n",
       "      <th></th>\n",
       "      <th></th>\n",
       "      <th></th>\n",
       "      <th></th>\n",
       "      <th></th>\n",
       "    </tr>\n",
       "  </thead>\n",
       "  <tbody>\n",
       "    <tr>\n",
       "      <th>Afghanistan</th>\n",
       "      <td>0.014575</td>\n",
       "      <td>0.020137</td>\n",
       "      <td>0.012984</td>\n",
       "      <td>0.036640</td>\n",
       "      <td>0</td>\n",
       "    </tr>\n",
       "    <tr>\n",
       "      <th>Africa</th>\n",
       "      <td>0.022267</td>\n",
       "      <td>0.036010</td>\n",
       "      <td>0.015686</td>\n",
       "      <td>0.024599</td>\n",
       "      <td>0</td>\n",
       "    </tr>\n",
       "    <tr>\n",
       "      <th>Algeria</th>\n",
       "      <td>0.021862</td>\n",
       "      <td>0.143094</td>\n",
       "      <td>0.008769</td>\n",
       "      <td>0.010846</td>\n",
       "      <td>0</td>\n",
       "    </tr>\n",
       "    <tr>\n",
       "      <th>Angola</th>\n",
       "      <td>0.028205</td>\n",
       "      <td>0.018242</td>\n",
       "      <td>0.004039</td>\n",
       "      <td>0.005769</td>\n",
       "      <td>0</td>\n",
       "    </tr>\n",
       "    <tr>\n",
       "      <th>Azerbaijan</th>\n",
       "      <td>0.276248</td>\n",
       "      <td>0.182658</td>\n",
       "      <td>0.066867</td>\n",
       "      <td>0.075257</td>\n",
       "      <td>0</td>\n",
       "    </tr>\n",
       "    <tr>\n",
       "      <th>...</th>\n",
       "      <td>...</td>\n",
       "      <td>...</td>\n",
       "      <td>...</td>\n",
       "      <td>...</td>\n",
       "      <td>...</td>\n",
       "    </tr>\n",
       "    <tr>\n",
       "      <th>Venezuela</th>\n",
       "      <td>0.051687</td>\n",
       "      <td>0.148543</td>\n",
       "      <td>0.036565</td>\n",
       "      <td>0.028840</td>\n",
       "      <td>0</td>\n",
       "    </tr>\n",
       "    <tr>\n",
       "      <th>Vietnam</th>\n",
       "      <td>0.008502</td>\n",
       "      <td>0.119877</td>\n",
       "      <td>0.008248</td>\n",
       "      <td>0.004183</td>\n",
       "      <td>0</td>\n",
       "    </tr>\n",
       "    <tr>\n",
       "      <th>Yemen</th>\n",
       "      <td>0.000540</td>\n",
       "      <td>0.022033</td>\n",
       "      <td>0.000867</td>\n",
       "      <td>0.008104</td>\n",
       "      <td>0</td>\n",
       "    </tr>\n",
       "    <tr>\n",
       "      <th>Zambia</th>\n",
       "      <td>0.010661</td>\n",
       "      <td>0.017058</td>\n",
       "      <td>0.050543</td>\n",
       "      <td>0.051229</td>\n",
       "      <td>0</td>\n",
       "    </tr>\n",
       "    <tr>\n",
       "      <th>Zimbabwe</th>\n",
       "      <td>0.069636</td>\n",
       "      <td>0.137171</td>\n",
       "      <td>0.034370</td>\n",
       "      <td>0.067821</td>\n",
       "      <td>0</td>\n",
       "    </tr>\n",
       "  </tbody>\n",
       "</table>\n",
       "<p>73 rows × 5 columns</p>\n",
       "</div>"
      ],
      "text/plain": [
       "             fully_vaccinated_percentual  partly_vaccinated_percentual  \\\n",
       "Name                                                                     \n",
       "Afghanistan                     0.014575                      0.020137   \n",
       "Africa                          0.022267                      0.036010   \n",
       "Algeria                         0.021862                      0.143094   \n",
       "Angola                          0.028205                      0.018242   \n",
       "Azerbaijan                      0.276248                      0.182658   \n",
       "...                                  ...                           ...   \n",
       "Venezuela                       0.051687                      0.148543   \n",
       "Vietnam                         0.008502                      0.119877   \n",
       "Yemen                           0.000540                      0.022033   \n",
       "Zambia                          0.010661                      0.017058   \n",
       "Zimbabwe                        0.069636                      0.137171   \n",
       "\n",
       "                cases     death  cluster  \n",
       "Name                                      \n",
       "Afghanistan  0.012984  0.036640        0  \n",
       "Africa       0.015686  0.024599        0  \n",
       "Algeria      0.008769  0.010846        0  \n",
       "Angola       0.004039  0.005769        0  \n",
       "Azerbaijan   0.066867  0.075257        0  \n",
       "...               ...       ...      ...  \n",
       "Venezuela    0.036565  0.028840        0  \n",
       "Vietnam      0.008248  0.004183        0  \n",
       "Yemen        0.000867  0.008104        0  \n",
       "Zambia       0.050543  0.051229        0  \n",
       "Zimbabwe     0.034370  0.067821        0  \n",
       "\n",
       "[73 rows x 5 columns]"
      ]
     },
     "execution_count": 52,
     "metadata": {},
     "output_type": "execute_result"
    }
   ],
   "source": [
    "x = df.loc[df.cluster ==0]\n",
    "x"
   ]
  },
  {
   "cell_type": "code",
   "execution_count": 53,
   "id": "e2f89d04-229b-4554-a76d-43f7c31fa0ea",
   "metadata": {},
   "outputs": [
    {
     "data": {
      "text/plain": [
       "array([0, 0, 3, 0, 1, 0, 2, 3, 3, 2, 2, 1, 0, 0, 1, 0, 2, 3, 1, 2, 0, 2,\n",
       "       3, 3, 3, 3, 2, 3, 2, 0, 2, 3, 0, 1, 2, 3, 0, 0, 3, 1, 3, 1, 1, 0,\n",
       "       1, 0, 2, 2, 0, 2, 0, 1, 0, 1, 1, 3, 2, 1, 0, 0, 3, 1, 0, 1, 0, 0,\n",
       "       0, 0, 2, 0, 1, 0, 2, 1, 2, 2, 0, 3, 3, 1, 1, 1, 0, 2, 3, 2, 0, 3,\n",
       "       3, 0, 0, 1, 3, 0, 0, 1, 1, 0, 0, 0, 3, 1, 0, 1, 0, 2, 2, 3, 1, 1,\n",
       "       1, 2, 0, 0, 3, 0, 1, 0, 0, 0, 0, 1, 3, 2, 0, 3, 0, 3, 0, 3, 3, 0,\n",
       "       1, 1, 1, 3, 0, 0, 2, 3, 0, 0, 2, 0, 1, 1, 0, 2, 1, 1, 0, 0, 3, 2,\n",
       "       0, 1, 2, 0, 3, 1, 1, 0, 2, 0, 0, 0, 0, 0, 2, 3, 3, 0, 3, 1, 1, 1,\n",
       "       2, 1, 0, 0, 0, 0, 2, 0, 0, 0], dtype=int32)"
      ]
     },
     "execution_count": 53,
     "metadata": {},
     "output_type": "execute_result"
    }
   ],
   "source": [
    "y_predict"
   ]
  }
 ],
 "metadata": {
  "kernelspec": {
   "display_name": "Python 3 (ipykernel)",
   "language": "python",
   "name": "python3"
  },
  "language_info": {
   "codemirror_mode": {
    "name": "ipython",
    "version": 3
   },
   "file_extension": ".py",
   "mimetype": "text/x-python",
   "name": "python",
   "nbconvert_exporter": "python",
   "pygments_lexer": "ipython3",
   "version": "3.8.10"
  }
 },
 "nbformat": 4,
 "nbformat_minor": 5
}
